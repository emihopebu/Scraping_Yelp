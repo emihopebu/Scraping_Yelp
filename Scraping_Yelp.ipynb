{
 "cells": [
  {
   "cell_type": "markdown",
   "metadata": {},
   "source": [
    "### Import Packages"
   ]
  },
  {
   "cell_type": "code",
   "execution_count": 36,
   "metadata": {},
   "outputs": [],
   "source": [
    "from selenium import webdriver\n",
    "import pandas as pd\n",
    "import time"
   ]
  },
  {
   "cell_type": "markdown",
   "metadata": {},
   "source": [
    "### Set Up"
   ]
  },
  {
   "cell_type": "code",
   "execution_count": 37,
   "metadata": {},
   "outputs": [],
   "source": [
    "driver=webdriver.Chrome(executable_path='C:\\webdrivers\\chromedriver.exe')\n",
    "driver.get('https://www.yelp.com/search?find_desc=dentists&find_loc=San+Francisco%2C+CA&ns=1')\n",
    "\n",
    "driver.maximize_window()\n",
    "time.sleep(1)"
   ]
  },
  {
   "cell_type": "markdown",
   "metadata": {},
   "source": [
    "### Target The Data We Want To Scrape"
   ]
  },
  {
   "cell_type": "code",
   "execution_count": 53,
   "metadata": {},
   "outputs": [],
   "source": [
    "# names\n",
    "names=driver.find_elements_by_xpath('//h4[@class=\"css-1l5lt1i\"]/span/a')\n",
    "\n",
    "# address\n",
    "address=driver.find_elements_by_xpath('//p[@class=\"css-1j7sdmt\"]/span[2]')\n",
    "\n",
    "# expertise\n",
    "expertise=driver.find_elements_by_xpath('//span[@class=\" css-epvm6 display--inline__09f24__nqZ_W border-color--default__09f24__3Epto\"]')\n",
    "\n",
    "# stars\n",
    "stars=driver.find_elements_by_xpath('//div[@class=\" attribute__09f24__1La1D display--inline-block__09f24__3SvIn margin-r1__09f24__3PebR border-color--default__09f24__3Epto\"]/span/div')\n",
    "\n",
    "# rating count\n",
    "rating_count=driver.find_elements_by_xpath('//span[@class=\"reviewCount__09f24__3GsGY css-e81eai\"]')"
   ]
  },
  {
   "cell_type": "code",
   "execution_count": 55,
   "metadata": {},
   "outputs": [
    {
     "name": "stdout",
     "output_type": "stream",
     "text": [
      "145\n",
      "34\n",
      "58\n",
      "47\n",
      "47\n",
      "69\n",
      "74\n",
      "109\n",
      "453\n",
      "61\n",
      "103\n",
      "71\n",
      "183\n",
      "52\n",
      "73\n",
      "111\n",
      "40\n",
      "145\n",
      "48\n"
     ]
    }
   ],
   "source": [
    "#for s in stars:\n",
    "    #print(s.get_attribute('aria-label'))\n",
    "for s in rating_count:\n",
    "    print(s.text)"
   ]
  },
  {
   "cell_type": "markdown",
   "metadata": {},
   "source": [
    "### Create Dataframe"
   ]
  },
  {
   "cell_type": "code",
   "execution_count": null,
   "metadata": {},
   "outputs": [],
   "source": []
  },
  {
   "cell_type": "code",
   "execution_count": null,
   "metadata": {},
   "outputs": [],
   "source": []
  },
  {
   "cell_type": "markdown",
   "metadata": {},
   "source": [
    "### Empty Lists"
   ]
  },
  {
   "cell_type": "markdown",
   "metadata": {},
   "source": [
    "1. Loop through the results\n",
    "2. Append the results in a list\n",
    "3. Use this lists as a value part for the dictionary (Remember: Dictionaries consist of Key-Value Pairs)\n",
    "3. Hand this Dictionary over to the Pandas Dataframe"
   ]
  },
  {
   "cell_type": "code",
   "execution_count": null,
   "metadata": {},
   "outputs": [],
   "source": []
  },
  {
   "cell_type": "markdown",
   "metadata": {},
   "source": [
    "### Loop and Append to List"
   ]
  },
  {
   "cell_type": "code",
   "execution_count": null,
   "metadata": {},
   "outputs": [],
   "source": []
  },
  {
   "cell_type": "markdown",
   "metadata": {},
   "source": [
    "### Dictionary"
   ]
  },
  {
   "cell_type": "code",
   "execution_count": null,
   "metadata": {},
   "outputs": [],
   "source": []
  },
  {
   "cell_type": "markdown",
   "metadata": {},
   "source": [
    "### Dictionary to Pandas Dataframe"
   ]
  },
  {
   "cell_type": "code",
   "execution_count": null,
   "metadata": {},
   "outputs": [],
   "source": []
  },
  {
   "cell_type": "markdown",
   "metadata": {},
   "source": [
    "### Clean the Data"
   ]
  },
  {
   "cell_type": "code",
   "execution_count": null,
   "metadata": {},
   "outputs": [],
   "source": []
  },
  {
   "cell_type": "markdown",
   "metadata": {},
   "source": [
    "### Save Data in Excel"
   ]
  },
  {
   "cell_type": "code",
   "execution_count": null,
   "metadata": {},
   "outputs": [],
   "source": []
  }
 ],
 "metadata": {
  "kernelspec": {
   "display_name": "Python 3",
   "language": "python",
   "name": "python3"
  },
  "language_info": {
   "codemirror_mode": {
    "name": "ipython",
    "version": 3
   },
   "file_extension": ".py",
   "mimetype": "text/x-python",
   "name": "python",
   "nbconvert_exporter": "python",
   "pygments_lexer": "ipython3",
   "version": "3.8.8"
  }
 },
 "nbformat": 4,
 "nbformat_minor": 4
}
